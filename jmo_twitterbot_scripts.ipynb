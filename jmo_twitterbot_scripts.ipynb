{
 "cells": [
  {
   "cell_type": "markdown",
   "metadata": {},
   "source": [
    "## update an image\n",
    "### save coords of original"
   ]
  },
  {
   "cell_type": "code",
   "execution_count": 1,
   "metadata": {
    "collapsed": false
   },
   "outputs": [
    {
     "data": {
      "text/plain": [
       "0"
      ]
     },
     "execution_count": 1,
     "metadata": {},
     "output_type": "execute_result"
    }
   ],
   "source": [
    "import subprocess\n",
    "\n",
    "pfile = 'beard_object.pickle'\n",
    "dfile = 'beard_graph.dot'\n",
    "\n",
    "cmd = \"\"\"\n",
    "dot -Ntooltip=\"\\N\" {} -Tpng -o ./beard_graph.png -Tcmapx -o ./trial.map;cut -d '\"' -f 6,10 trial.map | tail -n+2 | sed '$d'| sed 's/\"/,/g' > coords.txt; rm -f trial.map \n",
    "\"\"\".format(dfile)\n",
    "subprocess.call(cmd, shell=True)\n"
   ]
  },
  {
   "cell_type": "markdown",
   "metadata": {},
   "source": [
    "### Read in coords at runtime"
   ]
  },
  {
   "cell_type": "code",
   "execution_count": null,
   "metadata": {
    "collapsed": true
   },
   "outputs": [],
   "source": [
    "from PIL import Image\n",
    "\n",
    "cfile = 'coords.txt'\n",
    "bfile = 'beard_graph.png'\n",
    "ufile = 'beard_pictures/copstashstandard.png'\n",
    "\n",
    "style = 'hulihee'\n",
    "\n",
    "coords = {}\n",
    "for row in open(cfile,'r'):\n",
    "    v = row.strip().split(',')\n",
    "    coords[v[0]]=[int(x) for x in v[1:]]\n",
    "\n",
    "o = Image.open(bfile)\n",
    "u = Image.open(ufile)\n",
    "\n",
    "width = coords[style][2]-coords[style][0]\n",
    "height = coords[style][3]-coords[style][1]\n",
    "\n",
    "u.thumbnail((width,height),Image.ANTIALIAS)\n",
    "\n",
    "offset = max(0,width/2 - u.size[0]/2)\n",
    "\n",
    "o.paste(u,(coords[style][0]+offset,coords[style][1]))\n",
    "o.show()\n",
    "\n",
    "\n"
   ]
  }
 ],
 "metadata": {
  "kernelspec": {
   "display_name": "Python 2",
   "language": "python",
   "name": "python2"
  },
  "language_info": {
   "codemirror_mode": {
    "name": "ipython",
    "version": 2
   },
   "file_extension": ".py",
   "mimetype": "text/x-python",
   "name": "python",
   "nbconvert_exporter": "python",
   "pygments_lexer": "ipython2",
   "version": "2.7.9"
  }
 },
 "nbformat": 4,
 "nbformat_minor": 0
}
