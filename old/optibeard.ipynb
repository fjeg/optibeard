{
 "cells": [
  {
   "cell_type": "markdown",
   "metadata": {},
   "source": [
    "Create graph of beards. This iterates through all the beard images by assuming all PNG files are beard images. Then creates an image node for each of these beards."
   ]
  },
  {
   "cell_type": "code",
   "execution_count": 9,
   "metadata": {
    "collapsed": false
   },
   "outputs": [],
   "source": [
    "import pydot #remember to install graphviz on your system as well!\n",
    "import os\n",
    "\n",
    "dot_graph = pydot.Dot(graph_type='digraph')\n",
    "node_dict = {}\n",
    "\n",
    "files = os.listdir('.')\n",
    "\n",
    "for file_name in files:\n",
    "    if not file_name.endswith('png'): continue\n",
    "        \n",
    "    with open(file_name) as beardpic:\n",
    "        node_name = file_name[:-4]\n",
    "        full_file_path = os.path.join(cwd,file_name)\n",
    "        \n",
    "        n = pydot.Node(node_name, image=full_file_path, shape='box', label='\\n')\n",
    "        dot_graph.add_node(n)\n",
    "        node_dict[node_name] = n\n",
    "        \n"
   ]
  },
  {
   "cell_type": "markdown",
   "metadata": {},
   "source": [
    "Read in pairs and create edges between."
   ]
  },
  {
   "cell_type": "code",
   "execution_count": 10,
   "metadata": {
    "collapsed": false
   },
   "outputs": [],
   "source": [
    "graph = {}\n",
    "graph['federationstandard'] = []\n",
    "with open('final_pairs_v3.csv','rU') as beard_pairs:\n",
    "    for line in beard_pairs:\n",
    "        parent,child = line.strip().split(',')\n",
    "        dot_graph.add_edge( pydot.Edge(node_dict[parent],node_dict[child]) )\n",
    "        \n",
    "        children = graph.get(parent,[])\n",
    "        children.append(child)\n",
    "        graph[parent] = children\n"
   ]
  },
  {
   "cell_type": "markdown",
   "metadata": {},
   "source": [
    "Write out graph"
   ]
  },
  {
   "cell_type": "code",
   "execution_count": 17,
   "metadata": {
    "collapsed": false
   },
   "outputs": [
    {
     "data": {
      "text/plain": [
       "True"
      ]
     },
     "execution_count": 17,
     "metadata": {},
     "output_type": "execute_result"
    }
   ],
   "source": [
    "dot_graph.write_dot('beard_graph.dot')\n",
    "#dot_graph.write_gif('beard_graph.gif') #using gif so I don't pollute our beard PNGs\n",
    "dot_graph.write_pdf('beard_graph.pdf')"
   ]
  },
  {
   "cell_type": "code",
   "execution_count": 12,
   "metadata": {
    "collapsed": false
   },
   "outputs": [],
   "source": [
    "start = 'shortboxedbeard'\n",
    "end = 'federationstandard'\n",
    "\n",
    "fringe = [start]\n",
    "pointer_scores = {}\n",
    "\n",
    "for node in graph:\n",
    "    pointer_scores[node] = [1,[]]\n",
    "\n",
    "\n",
    "while len(fringe) > 0:\n",
    "    cur_node = fringe.pop(0)\n",
    "    children = graph[cur_node]\n",
    "    new_score = pointer_scores[cur_node][0] + 1\n",
    "    \n",
    "    for child in children:\n",
    "        p = pointer_scores[child]\n",
    "        if new_score > p[0]:\n",
    "            p[0] = new_score\n",
    "            p[1] = [ cur_node ]\n",
    "        elif new_score == [child]:\n",
    "            p[1].append(cur_node)\n",
    "        else:\n",
    "            continue\n",
    "        \n",
    "        if child not in fringe:\n",
    "            fringe.append(child)\n"
   ]
  },
  {
   "cell_type": "code",
   "execution_count": 13,
   "metadata": {
    "collapsed": false
   },
   "outputs": [],
   "source": [
    "path_graph = pydot.Dot(graph_type='digraph')\n",
    "path = []\n",
    "\n",
    "parents = [end]#pointer_scores[end][1]\n",
    "while parents != []:\n",
    "    \n",
    "\n",
    "    \n",
    "    #backtrace code\n",
    "    cur_node = parents[0]\n",
    "    path.insert(0,cur_node)\n",
    "    (score,parents) = pointer_scores[cur_node]\n",
    "    \n",
    "    # pydot code\n",
    "    n = node_dict[cur_node]\n",
    "    path_graph.add_node(n)\n",
    "    if parents != []:\n",
    "        path_graph.add_edge( pydot.Edge(node_dict[parents[0]],node_dict[cur_node]) )\n",
    "    "
   ]
  },
  {
   "cell_type": "code",
   "execution_count": 14,
   "metadata": {
    "collapsed": false
   },
   "outputs": [
    {
     "data": {
      "text/plain": [
       "True"
      ]
     },
     "execution_count": 14,
     "metadata": {},
     "output_type": "execute_result"
    }
   ],
   "source": [
    "path_graph.write_gif('optimal_beard_path.gif')"
   ]
  },
  {
   "cell_type": "code",
   "execution_count": 15,
   "metadata": {
    "collapsed": false
   },
   "outputs": [
    {
     "name": "stdout",
     "output_type": "stream",
     "text": [
      "['shortboxedbeard', 'friendlymuttonchops', 'thewinnfield', 'fumanchu', 'copstashstandard', 'pencil', 'federationstandard']\n"
     ]
    }
   ],
   "source": [
    "print path"
   ]
  },
  {
   "cell_type": "code",
   "execution_count": 16,
   "metadata": {
    "collapsed": false
   },
   "outputs": [
    {
     "name": "stdout",
     "output_type": "stream",
     "text": [
      "{'handlebarandchinpuff': [3, ['napoleaniiiimperial']], 'federationstandard': [7, ['pencil']], 'handlebarandgoatee': [1, []], 'sparrow': [1, []], 'shortboxedbeard': [1, []], 'napoleaniiiimperial': [2, ['shortboxedbeard']], 'soulpatch': [6, ['petitgoatee']], 'hollywoodian': [2, ['shortboxedbeard']], 'petitgoatee': [5, ['goatee']], 'handlebar': [4, ['handlebarandchinpuff']], 'hulihee': [1, []], 'rapindustrystandard': [4, ['vandyke']], 'thewinnfield': [3, ['friendlymuttonchops']], 'friendlymuttonchops': [2, ['shortboxedbeard']], 'vandyke': [3, ['hollywoodian']], 'pencil': [6, ['copstashstandard']], 'klingon': [2, ['shortboxedbeard']], 'chincurtain': [4, ['olddutch']], 'frenchfork': [1, []], 'goatee': [4, ['vandyke']], 'muttonchops': [4, ['olddutch']], 'dali': [1, []], 'thezappa': [4, ['vandyke']], 'franzjosef': [3, ['friendlymuttonchops']], 'ducktail': [1, []], 'alasouvarov': [2, ['shortboxedbeard']], 'fumanchu': [4, ['thewinnfield']], 'anchor': [4, ['balbo']], 'balbo': [3, ['hollywoodian']], 'olddutch': [3, ['klingon']], 'copstashstandard': [5, ['fumanchu']], 'supermario': [1, []]}\n"
     ]
    }
   ],
   "source": [
    "print pointer_scores"
   ]
  },
  {
   "cell_type": "code",
   "execution_count": 16,
   "metadata": {
    "collapsed": false
   },
   "outputs": [],
   "source": []
  }
 ],
 "metadata": {
  "kernelspec": {
   "display_name": "Python 2",
   "language": "python",
   "name": "python2"
  },
  "language_info": {
   "codemirror_mode": {
    "name": "ipython",
    "version": 2
   },
   "file_extension": ".py",
   "mimetype": "text/x-python",
   "name": "python",
   "nbconvert_exporter": "python",
   "pygments_lexer": "ipython2",
   "version": "2.7.9"
  }
 },
 "nbformat": 4,
 "nbformat_minor": 0
}
